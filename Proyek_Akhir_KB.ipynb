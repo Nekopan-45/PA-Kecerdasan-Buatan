{
  "nbformat": 4,
  "nbformat_minor": 0,
  "metadata": {
    "colab": {
      "provenance": []
    },
    "kernelspec": {
      "name": "python3",
      "display_name": "Python 3"
    },
    "language_info": {
      "name": "python"
    }
  },
  "cells": [
    {
      "cell_type": "code",
      "execution_count": null,
      "outputs": [],
      "source": [
        "import numpy as np\n",
        "import random\n",
        "import matplotlib.pyplot as plt\n",
        "import tensorflow as tf\n",
        "from keras.preprocessing.image import ImageDataGenerator\n",
        "import os\n",
        "\n",
        "from keras_preprocessing.image import load_img, img_to_array\n",
        "\n",
        "%matplotlib inline"
      ],
      "metadata": {
        "id": "c0H-F-mFecS1"
      }
    },
    {
      "cell_type": "code",
      "source": [
        "from google.colab import drive\n",
        "drive.mount('/content/drive')"
      ],
      "metadata": {
        "colab": {
          "base_uri": "https://localhost:8080/"
        },
        "id": "at661oivf_vN",
        "outputId": "4bf6b617-3780-426c-a48f-4e78d04b669a"
      },
      "execution_count": null,
      "outputs": [
        {
          "output_type": "stream",
          "name": "stdout",
          "text": [
            "Drive already mounted at /content/drive; to attempt to forcibly remount, call drive.mount(\"/content/drive\", force_remount=True).\n"
          ]
        }
      ]
    },
    {
      "cell_type": "code",
      "source": [
        "pip install split_folders"
      ],
      "metadata": {
        "colab": {
          "base_uri": "https://localhost:8080/"
        },
        "id": "HBZ34mPUJZoN",
        "outputId": "ff6d22d0-8b29-4b55-ef7d-3603b5f03349"
      },
      "execution_count": null,
      "outputs": [
        {
          "output_type": "stream",
          "name": "stdout",
          "text": [
            "Looking in indexes: https://pypi.org/simple, https://us-python.pkg.dev/colab-wheels/public/simple/\n",
            "Requirement already satisfied: split_folders in /usr/local/lib/python3.8/dist-packages (0.5.1)\n"
          ]
        }
      ]
    },
    {
      "cell_type": "code",
      "source": [
        "os.listdir('/content/drive/MyDrive/Dataset KB/rockpaperscissors')"
      ],
      "metadata": {
        "colab": {
          "base_uri": "https://localhost:8080/"
        },
        "id": "HBPZOJXgJNpG",
        "outputId": "bd559721-21c8-4209-936d-7bac81309c7f"
      },
      "execution_count": null,
      "outputs": [
        {
          "output_type": "execute_result",
          "data": {
            "text/plain": [
              "['README_rpc-cv-images.txt', 'rock', 'scissors', 'rps-cv-images', 'paper']"
            ]
          },
          "metadata": {},
          "execution_count": 14
        }
      ]
    },
    {
      "cell_type": "code",
      "execution_count": null,
      "outputs": [
        {
          "output_type": "stream",
          "name": "stderr",
          "text": [
            "\n",
            "Copying files: 0 files [00:00, ? files/s]\u001b[A\n",
            "Copying files: 1 files [00:00,  6.05 files/s]\u001b[A\n",
            "Copying files: 10 files [00:00, 13.34 files/s]\u001b[A\n",
            "Copying files: 12 files [00:00, 12.43 files/s]\u001b[A\n",
            "Copying files: 22 files [00:01, 26.87 files/s]\u001b[A\n",
            "Copying files: 29 files [00:01, 34.77 files/s]\u001b[A\n",
            "Copying files: 38 files [00:01, 45.94 files/s]\u001b[A\n",
            "Copying files: 46 files [00:01, 53.33 files/s]\u001b[A\n",
            "Copying files: 55 files [00:01, 61.10 files/s]\u001b[A\n",
            "Copying files: 64 files [00:01, 64.61 files/s]\u001b[A\n",
            "Copying files: 74 files [00:01, 72.11 files/s]\u001b[A\n",
            "Copying files: 82 files [00:01, 72.50 files/s]\u001b[A\n",
            "Copying files: 92 files [00:01, 78.71 files/s]\u001b[A\n",
            "Copying files: 101 files [00:02, 77.81 files/s]\u001b[A\n",
            "Copying files: 111 files [00:02, 83.52 files/s]\u001b[A\n",
            "Copying files: 120 files [00:02, 81.23 files/s]\u001b[A\n",
            "Copying files: 129 files [00:02, 83.39 files/s]\u001b[A\n",
            "Copying files: 138 files [00:02, 79.96 files/s]\u001b[A\n",
            "Copying files: 147 files [00:02, 78.50 files/s]\u001b[A\n",
            "Copying files: 155 files [00:02, 74.15 files/s]\u001b[A\n",
            "Copying files: 164 files [00:02, 78.11 files/s]\u001b[A\n",
            "Copying files: 172 files [00:02, 74.38 files/s]\u001b[A\n",
            "Copying files: 182 files [00:03, 77.26 files/s]\u001b[A\n",
            "Copying files: 193 files [00:03, 84.85 files/s]\u001b[A\n",
            "Copying files: 202 files [00:03, 82.90 files/s]\u001b[A\n",
            "Copying files: 212 files [00:03, 86.86 files/s]\u001b[A\n",
            "Copying files: 221 files [00:03, 83.68 files/s]\u001b[A\n",
            "Copying files: 230 files [00:03, 84.59 files/s]\u001b[A\n",
            "Copying files: 239 files [00:03, 81.91 files/s]\u001b[A\n",
            "Copying files: 249 files [00:03, 82.15 files/s]\u001b[A\n",
            "Copying files: 258 files [00:03, 82.51 files/s]\u001b[A\n",
            "Copying files: 267 files [00:04, 82.23 files/s]\u001b[A\n",
            "Copying files: 276 files [00:04, 82.05 files/s]\u001b[A\n",
            "Copying files: 285 files [00:04, 79.68 files/s]\u001b[A\n",
            "Copying files: 295 files [00:04, 85.06 files/s]\u001b[A\n",
            "Copying files: 304 files [00:04, 82.35 files/s]\u001b[A\n",
            "Copying files: 314 files [00:04, 87.02 files/s]\u001b[A\n",
            "Copying files: 323 files [00:04, 82.22 files/s]\u001b[A\n",
            "Copying files: 333 files [00:04, 82.31 files/s]\u001b[A\n",
            "Copying files: 343 files [00:05, 85.66 files/s]\u001b[A\n",
            "Copying files: 352 files [00:05, 83.65 files/s]\u001b[A\n",
            "Copying files: 361 files [00:05, 80.11 files/s]\u001b[A\n",
            "Copying files: 370 files [00:05, 78.55 files/s]\u001b[A\n",
            "Copying files: 379 files [00:05, 80.94 files/s]\u001b[A\n",
            "Copying files: 388 files [00:05, 80.24 files/s]\u001b[A\n",
            "Copying files: 397 files [00:05, 81.24 files/s]\u001b[A\n",
            "Copying files: 406 files [00:05, 78.69 files/s]\u001b[A\n",
            "Copying files: 416 files [00:05, 78.34 files/s]\u001b[A\n",
            "Copying files: 426 files [00:06, 83.09 files/s]\u001b[A\n",
            "Copying files: 435 files [00:06, 79.54 files/s]\u001b[A\n",
            "Copying files: 444 files [00:06, 76.45 files/s]\u001b[A\n",
            "Copying files: 452 files [00:06, 64.79 files/s]\u001b[A\n",
            "Copying files: 459 files [00:06, 65.88 files/s]\u001b[A\n",
            "Copying files: 466 files [00:06, 63.89 files/s]\u001b[A\n",
            "Copying files: 473 files [00:06, 65.32 files/s]\u001b[A\n",
            "Copying files: 483 files [00:06, 73.53 files/s]\u001b[A\n",
            "Copying files: 491 files [00:07, 70.25 files/s]\u001b[A\n",
            "Copying files: 499 files [00:07, 70.15 files/s]\u001b[A\n",
            "Copying files: 507 files [00:07, 70.28 files/s]\u001b[A\n",
            "Copying files: 517 files [00:07, 75.38 files/s]\u001b[A\n",
            "Copying files: 525 files [00:07, 70.32 files/s]\u001b[A\n",
            "Copying files: 534 files [00:07, 70.75 files/s]\u001b[A\n",
            "Copying files: 542 files [00:07, 72.01 files/s]\u001b[A\n",
            "Copying files: 551 files [00:07, 68.27 files/s]\u001b[A\n",
            "Copying files: 559 files [00:07, 70.06 files/s]\u001b[A\n",
            "Copying files: 567 files [00:08, 54.83 files/s]\u001b[A\n",
            "Copying files: 575 files [00:08, 59.97 files/s]\u001b[A\n",
            "Copying files: 582 files [00:08, 61.00 files/s]\u001b[A\n",
            "Copying files: 589 files [00:08, 60.19 files/s]\u001b[A\n",
            "Copying files: 596 files [00:08, 54.45 files/s]\u001b[A\n",
            "Copying files: 602 files [00:08, 55.64 files/s]\u001b[A\n",
            "Copying files: 610 files [00:08, 61.29 files/s]\u001b[A\n",
            "Copying files: 617 files [00:09, 37.22 files/s]\u001b[A\n",
            "Copying files: 625 files [00:09, 44.72 files/s]\u001b[A\n",
            "Copying files: 631 files [00:09, 45.84 files/s]\u001b[A\n",
            "Copying files: 640 files [00:09, 54.99 files/s]\u001b[A\n",
            "Copying files: 647 files [00:09, 54.98 files/s]\u001b[A\n",
            "Copying files: 656 files [00:09, 62.87 files/s]\u001b[A\n",
            "Copying files: 665 files [00:09, 65.56 files/s]\u001b[A\n",
            "Copying files: 673 files [00:10, 63.81 files/s]\u001b[A\n",
            "Copying files: 682 files [00:10, 65.83 files/s]\u001b[A\n",
            "Copying files: 690 files [00:10, 68.71 files/s]\u001b[A\n",
            "Copying files: 700 files [00:10, 74.48 files/s]\u001b[A\n",
            "Copying files: 708 files [00:10, 74.46 files/s]\u001b[A\n",
            "Copying files: 716 files [00:10, 47.74 files/s]\u001b[A\n",
            "Copying files: 723 files [00:11, 46.49 files/s]\u001b[A\n",
            "Copying files: 730 files [00:11, 51.03 files/s]\u001b[A\n",
            "Copying files: 737 files [00:11, 54.28 files/s]\u001b[A\n",
            "Copying files: 746 files [00:11, 61.74 files/s]\u001b[A\n",
            "Copying files: 753 files [00:11, 61.46 files/s]\u001b[A\n",
            "Copying files: 762 files [00:11, 67.88 files/s]\u001b[A\n",
            "Copying files: 770 files [00:11, 68.13 files/s]\u001b[A\n",
            "Copying files: 779 files [00:11, 72.54 files/s]\u001b[A\n",
            "Copying files: 787 files [00:11, 68.88 files/s]\u001b[A\n",
            "Copying files: 795 files [00:12, 63.14 files/s]\u001b[A\n",
            "Copying files: 804 files [00:12, 64.42 files/s]\u001b[A\n",
            "Copying files: 811 files [00:12, 60.74 files/s]\u001b[A\n",
            "Copying files: 818 files [00:12, 56.67 files/s]\u001b[A\n",
            "Copying files: 824 files [00:12, 50.93 files/s]\u001b[A\n",
            "Copying files: 830 files [00:12, 50.54 files/s]\u001b[A\n",
            "Copying files: 837 files [00:12, 53.47 files/s]\u001b[A\n",
            "Copying files: 846 files [00:12, 62.53 files/s]\u001b[A\n",
            "Copying files: 853 files [00:13, 61.49 files/s]\u001b[A\n",
            "Copying files: 860 files [00:13, 59.63 files/s]\u001b[A\n",
            "Copying files: 867 files [00:13, 59.83 files/s]\u001b[A\n",
            "Copying files: 874 files [00:13, 53.54 files/s]\u001b[A\n",
            "Copying files: 884 files [00:13, 60.89 files/s]\u001b[A\n",
            "Copying files: 891 files [00:13, 62.92 files/s]\u001b[A\n",
            "Copying files: 900 files [00:13, 66.90 files/s]\u001b[A\n",
            "Copying files: 909 files [00:13, 71.32 files/s]\u001b[A\n",
            "Copying files: 917 files [00:14, 66.10 files/s]\u001b[A\n",
            "Copying files: 926 files [00:14, 71.13 files/s]\u001b[A\n",
            "Copying files: 934 files [00:14, 71.56 files/s]\u001b[A\n",
            "Copying files: 942 files [00:14, 69.82 files/s]\u001b[A\n",
            "Copying files: 950 files [00:14, 66.04 files/s]\u001b[A\n",
            "Copying files: 957 files [00:14, 59.59 files/s]\u001b[A\n",
            "Copying files: 964 files [00:14, 58.66 files/s]\u001b[A\n",
            "Copying files: 970 files [00:14, 57.90 files/s]\u001b[A\n",
            "Copying files: 979 files [00:15, 62.50 files/s]\u001b[A\n",
            "Copying files: 986 files [00:15, 60.88 files/s]\u001b[A\n",
            "Copying files: 994 files [00:15, 64.30 files/s]\u001b[A\n",
            "Copying files: 1001 files [00:15, 64.10 files/s]\u001b[A\n",
            "Copying files: 1009 files [00:15, 67.93 files/s]\u001b[A\n",
            "Copying files: 1016 files [00:15, 64.29 files/s]\u001b[A\n",
            "Copying files: 1024 files [00:15, 67.05 files/s]\u001b[A\n",
            "Copying files: 1031 files [00:15, 55.84 files/s]\u001b[A\n",
            "Copying files: 1040 files [00:16, 63.89 files/s]\u001b[A\n",
            "Copying files: 1047 files [00:16, 57.27 files/s]\u001b[A\n",
            "Copying files: 1054 files [00:16, 51.58 files/s]\u001b[A\n",
            "Copying files: 1060 files [00:16, 47.44 files/s]\u001b[A\n",
            "Copying files: 1066 files [00:16, 46.17 files/s]\u001b[A\n",
            "Copying files: 1074 files [00:16, 50.58 files/s]\u001b[A\n",
            "Copying files: 1084 files [00:16, 61.26 files/s]\u001b[A\n",
            "Copying files: 1091 files [00:17, 54.34 files/s]\u001b[A\n",
            "Copying files: 1097 files [00:17, 54.50 files/s]\u001b[A\n",
            "Copying files: 1103 files [00:17, 55.33 files/s]\u001b[A\n",
            "Copying files: 1109 files [00:17, 53.57 files/s]\u001b[A\n",
            "Copying files: 1117 files [00:17, 59.33 files/s]\u001b[A\n",
            "Copying files: 1124 files [00:17, 56.89 files/s]\u001b[A\n",
            "Copying files: 1130 files [00:17, 55.29 files/s]\u001b[A\n",
            "Copying files: 1136 files [00:17, 55.09 files/s]\u001b[A\n",
            "Copying files: 1142 files [00:17, 53.79 files/s]\u001b[A\n",
            "Copying files: 1150 files [00:18, 55.59 files/s]\u001b[A\n",
            "Copying files: 1156 files [00:18, 49.00 files/s]\u001b[A\n",
            "Copying files: 1162 files [00:18, 47.41 files/s]\u001b[A\n",
            "Copying files: 1168 files [00:18, 46.06 files/s]\u001b[A\n",
            "Copying files: 1173 files [00:18, 43.58 files/s]\u001b[A\n",
            "Copying files: 1178 files [00:18, 44.81 files/s]\u001b[A\n",
            "Copying files: 1184 files [00:18, 46.50 files/s]\u001b[A\n",
            "Copying files: 1192 files [00:19, 50.26 files/s]\u001b[A\n",
            "Copying files: 1198 files [00:19, 52.23 files/s]\u001b[A\n",
            "Copying files: 1204 files [00:19, 39.86 files/s]\u001b[A\n",
            "Copying files: 1209 files [00:19, 41.43 files/s]\u001b[A\n",
            "Copying files: 1216 files [00:19, 45.82 files/s]\u001b[A\n",
            "Copying files: 1221 files [00:19, 44.53 files/s]\u001b[A\n",
            "Copying files: 1226 files [00:19, 45.06 files/s]\u001b[A\n",
            "Copying files: 1233 files [00:19, 48.76 files/s]\u001b[A\n",
            "Copying files: 1238 files [00:20, 46.90 files/s]\u001b[A\n",
            "Copying files: 1244 files [00:20, 49.68 files/s]\u001b[A\n",
            "Copying files: 1250 files [00:20, 45.49 files/s]\u001b[A\n",
            "Copying files: 1257 files [00:20, 50.16 files/s]\u001b[A\n",
            "Copying files: 1266 files [00:20, 60.20 files/s]\u001b[A\n",
            "Copying files: 1273 files [00:20, 59.48 files/s]\u001b[A\n",
            "Copying files: 1282 files [00:20, 65.60 files/s]\u001b[A\n",
            "Copying files: 1289 files [00:20, 62.34 files/s]\u001b[A\n",
            "Copying files: 1296 files [00:21, 59.97 files/s]\u001b[A\n",
            "Copying files: 1303 files [00:21, 49.20 files/s]\u001b[A\n",
            "Copying files: 1311 files [00:21, 55.05 files/s]\u001b[A\n",
            "Copying files: 1317 files [00:21, 55.40 files/s]\u001b[A\n",
            "Copying files: 1324 files [00:21, 57.94 files/s]\u001b[A\n",
            "Copying files: 1331 files [00:21, 57.61 files/s]\u001b[A\n",
            "Copying files: 1338 files [00:21, 60.03 files/s]\u001b[A\n",
            "Copying files: 1345 files [00:21, 62.28 files/s]\u001b[A\n",
            "Copying files: 1352 files [00:22, 54.33 files/s]\u001b[A\n",
            "Copying files: 1358 files [00:22, 54.84 files/s]\u001b[A\n",
            "Copying files: 1364 files [00:22, 52.52 files/s]\u001b[A\n",
            "Copying files: 1370 files [00:22, 51.79 files/s]\u001b[A\n",
            "Copying files: 1376 files [00:22, 52.46 files/s]\u001b[A\n",
            "Copying files: 1382 files [00:22, 51.10 files/s]\u001b[A\n",
            "Copying files: 1388 files [00:22, 50.89 files/s]\u001b[A\n",
            "Copying files: 1396 files [00:22, 58.15 files/s]\u001b[A\n",
            "Copying files: 1402 files [00:23, 54.07 files/s]\u001b[A\n",
            "Copying files: 1408 files [00:23, 52.64 files/s]\u001b[A\n",
            "Copying files: 1414 files [00:23, 54.09 files/s]\u001b[A\n",
            "Copying files: 1421 files [00:23, 58.30 files/s]\u001b[A\n",
            "Copying files: 1427 files [00:23, 53.07 files/s]\u001b[A\n",
            "Copying files: 1433 files [00:23, 49.44 files/s]\u001b[A\n",
            "Copying files: 1439 files [00:24, 27.63 files/s]\u001b[A\n",
            "Copying files: 1443 files [00:26,  7.43 files/s]\u001b[A\n",
            "Copying files: 1446 files [00:26,  6.05 files/s]\u001b[A\n",
            "Copying files: 1449 files [00:32,  1.79 files/s]\u001b[A\n",
            "Copying files: 1451 files [00:33,  2.11 files/s]\u001b[A\n",
            "Copying files: 1457 files [00:33,  3.53 files/s]\u001b[A\n",
            "Copying files: 1460 files [00:33,  4.42 files/s]\u001b[A\n",
            "Copying files: 1469 files [00:33,  8.38 files/s]\u001b[A\n",
            "Copying files: 1474 files [00:33, 10.26 files/s]\u001b[A\n",
            "Copying files: 1478 files [00:33, 12.47 files/s]\u001b[A\n",
            "Copying files: 1486 files [00:33, 18.95 files/s]\u001b[A\n",
            "Copying files: 1493 files [00:33, 25.05 files/s]\u001b[A\n",
            "Copying files: 1504 files [00:34, 37.15 files/s]\u001b[A\n",
            "Copying files: 1511 files [00:34, 42.75 files/s]\u001b[A\n",
            "Copying files: 1518 files [00:34, 39.32 files/s]\u001b[A\n",
            "Copying files: 1524 files [00:34, 42.42 files/s]\u001b[A\n",
            "Copying files: 1530 files [00:34, 40.95 files/s]\u001b[A\n",
            "Copying files: 1539 files [00:34, 50.41 files/s]\u001b[A\n",
            "Copying files: 1546 files [00:35, 37.42 files/s]\u001b[A\n",
            "Copying files: 1555 files [00:35, 46.89 files/s]\u001b[A\n",
            "Copying files: 1562 files [00:35, 51.55 files/s]\u001b[A\n",
            "Copying files: 1572 files [00:35, 61.47 files/s]\u001b[A\n",
            "Copying files: 1580 files [00:35, 62.74 files/s]\u001b[A\n",
            "Copying files: 1590 files [00:35, 71.70 files/s]\u001b[A\n",
            "Copying files: 1598 files [00:35, 73.32 files/s]\u001b[A\n",
            "Copying files: 1608 files [00:35, 76.70 files/s]\u001b[A\n",
            "Copying files: 1618 files [00:35, 80.10 files/s]\u001b[A\n",
            "Copying files: 1627 files [00:36, 75.90 files/s]\u001b[A\n",
            "Copying files: 1637 files [00:36, 81.07 files/s]\u001b[A\n",
            "Copying files: 1646 files [00:36, 78.59 files/s]\u001b[A\n",
            "Copying files: 1656 files [00:36, 79.36 files/s]\u001b[A\n",
            "Copying files: 1665 files [00:36, 81.57 files/s]\u001b[A\n",
            "Copying files: 1674 files [00:36, 81.48 files/s]\u001b[A\n",
            "Copying files: 1684 files [00:36, 86.19 files/s]\u001b[A\n",
            "Copying files: 1693 files [00:36, 80.04 files/s]\u001b[A\n",
            "Copying files: 1703 files [00:36, 80.38 files/s]\u001b[A\n",
            "Copying files: 1712 files [00:37, 82.33 files/s]\u001b[A\n",
            "Copying files: 1721 files [00:37, 80.61 files/s]\u001b[A\n",
            "Copying files: 1731 files [00:37, 85.19 files/s]\u001b[A\n",
            "Copying files: 1740 files [00:37, 81.30 files/s]\u001b[A\n",
            "Copying files: 1749 files [00:37, 83.39 files/s]\u001b[A\n",
            "Copying files: 1758 files [00:37, 74.04 files/s]\u001b[A\n",
            "Copying files: 1766 files [00:37, 72.86 files/s]\u001b[A\n",
            "Copying files: 1775 files [00:37, 76.08 files/s]\u001b[A\n",
            "Copying files: 1783 files [00:37, 74.84 files/s]\u001b[A\n",
            "Copying files: 1792 files [00:38, 78.94 files/s]\u001b[A\n",
            "Copying files: 1801 files [00:38, 77.17 files/s]\u001b[A\n",
            "Copying files: 1810 files [00:38, 80.06 files/s]\u001b[A\n",
            "Copying files: 1819 files [00:38, 78.19 files/s]\u001b[A\n",
            "Copying files: 1827 files [00:38, 78.39 files/s]\u001b[A\n",
            "Copying files: 1836 files [00:38, 81.40 files/s]\u001b[A\n",
            "Copying files: 1845 files [00:38, 77.46 files/s]\u001b[A\n",
            "Copying files: 1854 files [00:38, 79.81 files/s]\u001b[A\n",
            "Copying files: 1863 files [00:38, 76.45 files/s]\u001b[A\n",
            "Copying files: 1871 files [00:39, 73.75 files/s]\u001b[A\n",
            "Copying files: 1879 files [00:39, 72.28 files/s]\u001b[A\n",
            "Copying files: 1887 files [00:39, 71.56 files/s]\u001b[A\n",
            "Copying files: 1895 files [00:39, 68.07 files/s]\u001b[A\n",
            "Copying files: 1905 files [00:39, 72.55 files/s]\u001b[A\n",
            "Copying files: 1914 files [00:39, 75.52 files/s]\u001b[A\n",
            "Copying files: 1922 files [00:39, 74.83 files/s]\u001b[A\n",
            "Copying files: 1931 files [00:39, 75.75 files/s]\u001b[A\n",
            "Copying files: 1940 files [00:40, 75.52 files/s]\u001b[A\n",
            "Copying files: 1948 files [00:40, 72.91 files/s]\u001b[A\n",
            "Copying files: 1956 files [00:40, 73.55 files/s]\u001b[A\n",
            "Copying files: 1966 files [00:40, 79.83 files/s]\u001b[A\n",
            "Copying files: 1975 files [00:40, 76.26 files/s]\u001b[A\n",
            "Copying files: 1985 files [00:40, 82.27 files/s]\u001b[A\n",
            "Copying files: 1994 files [00:40, 79.59 files/s]\u001b[A\n",
            "Copying files: 2003 files [00:40, 80.84 files/s]\u001b[A\n",
            "Copying files: 2012 files [00:40, 77.58 files/s]\u001b[A\n",
            "Copying files: 2022 files [00:41, 73.26 files/s]\u001b[A\n",
            "Copying files: 2030 files [00:41, 74.13 files/s]\u001b[A\n",
            "Copying files: 2038 files [00:41, 72.62 files/s]\u001b[A\n",
            "Copying files: 2047 files [00:41, 76.25 files/s]\u001b[A\n",
            "Copying files: 2055 files [00:41, 75.77 files/s]\u001b[A\n",
            "Copying files: 2066 files [00:41, 81.26 files/s]\u001b[A\n",
            "Copying files: 2075 files [00:41, 79.84 files/s]\u001b[A\n",
            "Copying files: 2085 files [00:41, 79.65 files/s]\u001b[A\n",
            "Copying files: 2096 files [00:42, 85.88 files/s]\u001b[A\n",
            "Copying files: 2105 files [00:42, 82.67 files/s]\u001b[A\n",
            "Copying files: 2115 files [00:42, 85.38 files/s]\u001b[A\n",
            "Copying files: 2124 files [00:42, 81.52 files/s]\u001b[A\n",
            "Copying files: 2133 files [00:42, 77.72 files/s]\u001b[A\n",
            "Copying files: 2141 files [00:42, 71.00 files/s]\u001b[A\n",
            "Copying files: 2151 files [00:42, 74.85 files/s]\u001b[A\n",
            "Copying files: 2161 files [00:42, 80.17 files/s]\u001b[A\n",
            "Copying files: 2170 files [00:42, 74.75 files/s]\u001b[A\n",
            "Copying files: 2188 files [00:43, 50.62 files/s]\n"
          ]
        }
      ],
      "source": [
        "import splitfolders\n",
        "base_dir = '/content/drive/MyDrive/Dataset KB/rockpaperscissors/rps-cv-images'\n",
        "splitfolders.ratio(base_dir, output = '/content/drive/MyDrive/Dataset KB/rockpaperscissors', seed = 1337, ratio = (.6, .3, .1))\n",
        "\n",
        "train_dir = os.path.join('/content/drive/MyDrive/Dataset KB/rockpaperscissors', 'train')\n",
        "val_dir = os.path.join('/content/drive/MyDrive/Dataset KB/rockpaperscissors', 'val')\n",
        "test = os.path.join('/content/drive/MyDrive/Dataset KB/rockpaperscissors', 'test')\n",
        "\n",
        "rock_dir = os.path.join(base_dir, 'rock')\n",
        "paper_dir = os.path.join(base_dir, 'paper')\n",
        "scissors_dir = os.path.join(base_dir, 'scissors')"
      ],
      "metadata": {
        "colab": {
          "base_uri": "https://localhost:8080/"
        },
        "id": "keEgIBBeecS_",
        "outputId": "41feb86a-6138-4ee2-9f53-388aa7ce83cd"
      }
    },
    {
      "cell_type": "code",
      "source": [
        "train = os.path.join('/content/drive/MyDrive/Dataset KB/rockpaperscissors/train', 'paper')\n",
        "val = os.path.join('/content/drive/MyDrive/Dataset KB/rockpaperscissors/val', 'paper')\n",
        "testt = os.path.join('/content/drive/MyDrive/Dataset KB/rockpaperscissors/test', 'paper')\n",
        "\n",
        "print('paper : ',len(os.listdir(paper_dir)))\n",
        "print('rock : ',len(os.listdir(rock_dir)))\n",
        "print('scissors : ',len(os.listdir(scissors_dir)))\n",
        "print('Paper Train : ',len(os.listdir(train)))\n",
        "print('Paper Validation : ',len(os.listdir(val)))\n",
        "print('Paper Validation : ',len(os.listdir(testt)))"
      ],
      "metadata": {
        "colab": {
          "base_uri": "https://localhost:8080/"
        },
        "id": "IqM76HRWOSnC",
        "outputId": "2056d17d-43c5-4970-987b-0d89cd425e3d"
      },
      "execution_count": null,
      "outputs": [
        {
          "output_type": "stream",
          "name": "stdout",
          "text": [
            "paper :  712\n",
            "rock :  726\n",
            "scissors :  750\n",
            "Paper Train :  427\n",
            "Paper Validation :  213\n",
            "Paper Validation :  72\n"
          ]
        }
      ]
    },
    {
      "cell_type": "code",
      "execution_count": null,
      "outputs": [
        {
          "output_type": "stream",
          "name": "stdout",
          "text": [
            "Found 1312 images belonging to 3 classes.\n",
            "Found 655 images belonging to 3 classes.\n",
            "Found 221 images belonging to 3 classes.\n"
          ]
        }
      ],
      "source": [
        "train_generator = ImageDataGenerator(validation_split=0.4,\n",
        "                               rescale=1/255,\n",
        "                               shear_range=0.2,\n",
        "                               zoom_range=0.2,\n",
        "                               rotation_range=45,\n",
        "                               horizontal_flip= True,\n",
        "                               vertical_flip= True,\n",
        "                               fill_mode='nearest')\n",
        "\n",
        "val_generator=ImageDataGenerator(\n",
        "    rescale=1/255\n",
        ")\n",
        "test_generator=ImageDataGenerator(\n",
        "    rescale=1/255\n",
        ")\n",
        "\n",
        "train_data = train_generator.flow_from_directory(train_dir,\n",
        "                                           class_mode= 'categorical',\n",
        "                                           shuffle = True,\n",
        "                                           batch_size=32,\n",
        "                                           target_size=(150,150))\n",
        "\n",
        "val_data = val_generator.flow_from_directory(val_dir,\n",
        "                                         class_mode= 'categorical',\n",
        "                                         shuffle = True,\n",
        "                                         batch_size=32,\n",
        "                                         target_size=(150,150))\n",
        "\n",
        "test_data = test_generator.flow_from_directory(test,\n",
        "                                                            batch_size=32,\n",
        "                                                            target_size=(150,150),\n",
        "                                                            class_mode= 'categorical',\n",
        "                                                            shuffle=True)"
      ],
      "metadata": {
        "colab": {
          "base_uri": "https://localhost:8080/"
        },
        "id": "uU49Uur_ecTE",
        "outputId": "82c82cea-1222-49cd-f5f4-ab11a62de970"
      }
    }
  ]
}